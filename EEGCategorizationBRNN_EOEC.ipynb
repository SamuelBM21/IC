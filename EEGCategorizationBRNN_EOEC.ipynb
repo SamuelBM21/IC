{
  "cells": [
    {
      "cell_type": "markdown",
      "metadata": {
        "id": "view-in-github",
        "colab_type": "text"
      },
      "source": [
        "<a href=\"https://colab.research.google.com/github/SamuelBM21/IC/blob/main/EEGCategorizationBRNN_EOEC.ipynb\" target=\"_parent\"><img src=\"https://colab.research.google.com/assets/colab-badge.svg\" alt=\"Open In Colab\"/></a>"
      ]
    },
    {
      "cell_type": "code",
      "execution_count": null,
      "metadata": {
        "id": "-h55ManZSRfK"
      },
      "outputs": [],
      "source": [
        "import torch                        #PyTorch\n",
        "import torch.nn as nn               #Camadas da Rede neural\n",
        "import torch.optim as optim         #Otimizadores\n",
        "import pandas as pd\n",
        "import numpy as np\n",
        "import os\n",
        "import matplotlib.pyplot as plt\n",
        "from torch.utils.data import Dataset, DataLoader\n",
        "from sklearn.preprocessing import LabelBinarizer\n",
        "from sklearn.metrics import classification_report, confusion_matrix, f1_score\n",
        "from torch.optim.lr_scheduler import ReduceLROnPlateau\n",
        "import seaborn as sns\n",
        "import copy"
      ]
    },
    {
      "cell_type": "code",
      "execution_count": null,
      "metadata": {
        "colab": {
          "base_uri": "https://localhost:8080/"
        },
        "collapsed": true,
        "id": "YLxc8cGQSloP",
        "outputId": "0ac87766-8bd9-4768-d260-b97c02e35ab1"
      },
      "outputs": [
        {
          "output_type": "stream",
          "name": "stdout",
          "text": [
            "Drive already mounted at /content/drive; to attempt to forcibly remount, call drive.mount(\"/content/drive\", force_remount=True).\n"
          ]
        }
      ],
      "source": [
        "from google.colab import drive\n",
        "drive.mount('/content/drive')"
      ]
    },
    {
      "cell_type": "code",
      "execution_count": null,
      "metadata": {
        "collapsed": true,
        "id": "illZBHfKWHhI"
      },
      "outputs": [],
      "source": [
        "\n",
        "class EEGWindowDataset(Dataset):\n",
        "    def __init__(self, folder_path, subjects, tasks, sampling_points=1920, offset=35, label_map=None, transform=None):\n",
        "        self.windows = []\n",
        "        self.labels = []\n",
        "        self.transform = transform\n",
        "\n",
        "        for subj in subjects:\n",
        "            for task in tasks:\n",
        "                file_name = f\"S{subj:03d}{task}.csv\"\n",
        "                file_path = os.path.join(folder_path, f\"S{subj:03d}\", file_name)\n",
        "\n",
        "                if not os.path.exists(file_path):\n",
        "                    print(f\"[AVISO] Arquivo não encontrado: {file_path}\")\n",
        "                    continue\n",
        "\n",
        "                data = np.loadtxt(file_path, delimiter=',')  # shape: (64, total_amostras)\n",
        "                total_points = data.shape[1]\n",
        "\n",
        "                for start in range(0, total_points - sampling_points + 1, offset):\n",
        "                    end = start + sampling_points\n",
        "                    window = data[:, start:end]  # shape: (64, 1920)\n",
        "                    if self.transform:\n",
        "                        window = self.transform(window)\n",
        "                    self.windows.append(window)\n",
        "                    self.labels.append(label_map[task] if label_map else 0)\n",
        "\n",
        "    def __len__(self):\n",
        "        return len(self.windows)\n",
        "\n",
        "    def __getitem__(self, idx):\n",
        "        x = torch.tensor(self.windows[idx], dtype=torch.float32)\n",
        "        y = torch.tensor(self.labels[idx], dtype=torch.long)\n",
        "        return x, y\n"
      ]
    },
    {
      "cell_type": "code",
      "execution_count": null,
      "metadata": {
        "id": "d723c545"
      },
      "outputs": [],
      "source": [
        "class EEGFixedTestDataset(Dataset):\n",
        "    def __init__(self, folder_path, subjects, tasks=['R01', 'R02'], sampling_points=1920, label_map=None):\n",
        "        self.windows = []\n",
        "        self.labels = []\n",
        "\n",
        "        for subj in subjects:\n",
        "            for task in tasks:\n",
        "                file_name = f\"S{subj:03d}{task}.csv\"\n",
        "                file_path = os.path.join(folder_path, f\"S{subj:03d}\", file_name)\n",
        "\n",
        "                if not os.path.exists(file_path):\n",
        "                    print(f\"[AVISO] Arquivo não encontrado: {file_path}\")\n",
        "                    continue\n",
        "\n",
        "                data = np.loadtxt(file_path, delimiter=',')  # shape: (64, total_amostras)\n",
        "                total_points = data.shape[1]\n",
        "\n",
        "                step = (total_points - sampling_points) // 4\n",
        "                for i in range(5):\n",
        "                    start = i * step\n",
        "                    end = start + sampling_points\n",
        "                    window = data[:, start:end]\n",
        "                    self.windows.append(window)\n",
        "                    self.labels.append(label_map[task] if label_map else 0)\n",
        "\n",
        "    def __len__(self):\n",
        "        return len(self.windows)\n",
        "\n",
        "    def __getitem__(self, idx):\n",
        "        x = torch.tensor(self.windows[idx], dtype=torch.float32)\n",
        "        y = torch.tensor(self.labels[idx], dtype=torch.long)\n",
        "        return x, y"
      ]
    },
    {
      "cell_type": "code",
      "execution_count": null,
      "metadata": {
        "id": "7NFM1x_mWfmc"
      },
      "outputs": [],
      "source": [
        "batch_size = 16\n",
        "learning_rate = 0.0005\n",
        "epochs = 100\n",
        "\n",
        "conditions = {\n",
        "    0: \"Eyes Opened (O)\",\n",
        "    1: \"Eyes Closed (C)\",\n",
        "}\n",
        "\n",
        "\n",
        "# Divisão 90% treino / 10% validação\n",
        "all_subjects = list(range(1, 61))\n",
        "np.random.seed(42)\n",
        "np.random.shuffle(all_subjects)\n",
        "test_subjects = list(range(61, 109))\n",
        "train_size = int(0.9 * len(all_subjects))\n",
        "train_subjects = all_subjects[:train_size]\n",
        "val_subjects = all_subjects[train_size:]\n",
        "\n",
        "label_map = {'R01': 0, 'R02': 1}\n",
        "\n",
        "# Datasets com janelamento e offset\n",
        "train_dataset = EEGWindowDataset(\n",
        "    folder_path='/content/drive/MyDrive/EEGDataset/Dataset_CSV',\n",
        "    subjects=train_subjects,\n",
        "    tasks=['R01', 'R02'],\n",
        "    sampling_points=1920,\n",
        "    offset=35,\n",
        "    label_map=label_map\n",
        ")\n",
        "\n",
        "val_dataset = EEGWindowDataset(\n",
        "    folder_path='/content/drive/MyDrive/EEGDataset/Dataset_CSV',\n",
        "    subjects=val_subjects,\n",
        "    tasks=['R01', 'R02'],\n",
        "    sampling_points=1920,\n",
        "    offset=35,\n",
        "    label_map=label_map\n",
        ")\n",
        "\n",
        "# Teste fixo (5 segmentos EC e EO por sujeito)\n",
        "test_dataset = EEGFixedTestDataset(\n",
        "    folder_path='/content/drive/MyDrive/EEGDataset/Dataset_CSV',\n",
        "    subjects=test_subjects,\n",
        "    tasks=['R01', 'R02'],\n",
        "    sampling_points=1920,\n",
        "    label_map=label_map\n",
        ")\n",
        "\n",
        "train_loader = torch.utils.data.DataLoader(train_dataset, batch_size=batch_size, shuffle=True)\n",
        "val_loader = torch.utils.data.DataLoader(val_dataset, batch_size=batch_size, shuffle=False)\n",
        "test_loader = torch.utils.data.DataLoader(test_dataset, batch_size=batch_size, shuffle=False)"
      ]
    },
    {
      "cell_type": "code",
      "execution_count": null,
      "metadata": {
        "id": "SoP56nYsXa5w"
      },
      "outputs": [],
      "source": [
        "class EEG_CNN_LSTM(nn.Module):\n",
        "    def __init__(self, input_channels=64, time_steps=1920, hidden_size=32, num_layers=1, num_classes=2):\n",
        "        super().__init__()\n",
        "\n",
        "        # CNN para extração espacial por canal\n",
        "        self.cnn = nn.Sequential(\n",
        "            nn.Conv1d(64, 128, kernel_size=5, padding=2),\n",
        "            nn.BatchNorm1d(128),\n",
        "            nn.ReLU(),\n",
        "            nn.Conv1d(128, 128, kernel_size=5, padding=2),\n",
        "            nn.BatchNorm1d(128),\n",
        "            nn.ReLU(),\n",
        "            nn.Dropout(0.3)\n",
        "        )\n",
        "\n",
        "        # LSTM bidirecional sobre sequência temporal\n",
        "        self.lstm = nn.LSTM(\n",
        "            input_size=128,  # output da CNN\n",
        "            hidden_size=hidden_size,\n",
        "            num_layers=num_layers,\n",
        "            batch_first=True,\n",
        "            bidirectional=True\n",
        "        )\n",
        "\n",
        "        # Classificador\n",
        "        self.classifier = nn.Sequential(\n",
        "            nn.Linear(hidden_size * 2, 128),\n",
        "            nn.BatchNorm1d(128),\n",
        "            nn.ReLU(),\n",
        "            nn.Dropout(0.5),\n",
        "            nn.Linear(128, num_classes)\n",
        "        )\n",
        "\n",
        "    def forward(self, x):\n",
        "        # x shape: [B, 64, 1920]\n",
        "\n",
        "        # CNN: aplicar convolução nos canais (dimensão 1)\n",
        "        x = self.cnn(x)  # output shape: [B, 128, 1920]\n",
        "\n",
        "        # Transpor para [B, 1920, 128] para LSTM (seq_len = 1920)\n",
        "        x = x.permute(0, 2, 1)\n",
        "\n",
        "        # LSTM\n",
        "        out, (hn, cn) = self.lstm(x)\n",
        "\n",
        "        # Concatenar direções\n",
        "        hn_forward = hn[-2]\n",
        "        hn_backward = hn[-1]\n",
        "        hn_concat = torch.cat((hn_forward, hn_backward), dim=1)  # [B, 2*hidden_size]\n",
        "\n",
        "        # Classificador\n",
        "        out = self.classifier(hn_concat)\n",
        "        return out"
      ]
    },
    {
      "cell_type": "code",
      "execution_count": null,
      "metadata": {
        "id": "gzQ6d0JfSsoa"
      },
      "outputs": [],
      "source": [
        "device = torch.device(\"cuda\" if torch.cuda.is_available() else \"cpu\")\n",
        "model = EEG_CNN_LSTM().to(device)\n",
        "criterion = nn.CrossEntropyLoss()\n",
        "optimizer = torch.optim.Adam(model.parameters(), lr=learning_rate, weight_decay=1e-4)\n",
        "scheduler = ReduceLROnPlateau(\n",
        "    optimizer,\n",
        "    mode='max',\n",
        "    factor=0.5,\n",
        "    patience=3\n",
        ")"
      ]
    },
    {
      "cell_type": "code",
      "execution_count": null,
      "metadata": {
        "id": "b04ohZheSsl2"
      },
      "outputs": [],
      "source": [
        "def train_model(model, train_loader, val_loader, criterion, optimizer, scheduler, device, epochs=100):\n",
        "    best_f1 = 0.0\n",
        "    best_model_wts = copy.deepcopy(model.state_dict())\n",
        "    patience, counter = 5, 0\n",
        "\n",
        "    for epoch in range(epochs):\n",
        "        model.train()\n",
        "        running_loss = 0.0\n",
        "\n",
        "        for images, labels in train_loader:\n",
        "            images = images.to(device)\n",
        "            labels = labels.to(device)\n",
        "\n",
        "            optimizer.zero_grad()\n",
        "            outputs = model(images)\n",
        "            loss = criterion(outputs, labels)\n",
        "            loss.backward()\n",
        "            optimizer.step()\n",
        "\n",
        "            running_loss += loss.item()\n",
        "\n",
        "        # Validação\n",
        "        val_loss, val_f1 = evaluate_model(model, val_loader, criterion, device)\n",
        "        scheduler.step(val_f1)\n",
        "\n",
        "        print(f\"Época {epoch+1}/{epochs} | Train Loss: {running_loss/len(train_loader):.4f} | Val Loss: {val_loss:.4f} | Val F1: {val_f1:.4f}\")\n",
        "\n",
        "        # Early stopping\n",
        "        if val_f1 > best_f1:\n",
        "            best_f1 = val_f1\n",
        "            best_model_wts = copy.deepcopy(model.state_dict())\n",
        "            counter = 0\n",
        "        else:\n",
        "            counter += 1\n",
        "            if counter >= patience:\n",
        "                print(f\"Early stopping at epoch {epoch+1}\")\n",
        "                break\n",
        "\n",
        "    # Carregar melhor modelo\n",
        "    model.load_state_dict(best_model_wts)\n",
        "    return model"
      ]
    },
    {
      "cell_type": "code",
      "execution_count": null,
      "metadata": {
        "id": "uxcPAZj3yXMW"
      },
      "outputs": [],
      "source": [
        "def test_model(model, test_loader, device, class_names):\n",
        "    model.eval()\n",
        "    all_preds = []\n",
        "    all_labels = []\n",
        "\n",
        "    with torch.no_grad():\n",
        "        for images, labels in test_loader:\n",
        "            images = images.to(device)\n",
        "            labels = labels.to(device)\n",
        "\n",
        "            outputs = model(images)\n",
        "            preds = torch.argmax(outputs, dim=1)\n",
        "            true_labels = labels # Use the labels directly as they are already class indices\n",
        "\n",
        "            all_preds.extend(preds.cpu().numpy())\n",
        "            all_labels.extend(true_labels.cpu().numpy())\n",
        "\n",
        "    print(\"\\n Classification Report:\\n\")\n",
        "    print(classification_report(all_labels, all_preds, target_names=class_names))\n",
        "\n",
        "    cm = confusion_matrix(all_labels, all_preds)\n",
        "    plt.figure(figsize=(6, 5))\n",
        "    sns.heatmap(cm, annot=True, fmt='d', cmap='Blues', xticklabels=class_names, yticklabels=class_names)\n",
        "    plt.xlabel(\"Predicted\")\n",
        "    plt.ylabel(\"True\")\n",
        "    plt.title(\"Confusion Matrix\")\n",
        "    plt.show()"
      ]
    },
    {
      "cell_type": "code",
      "execution_count": null,
      "metadata": {
        "id": "aWM2U3DSmCZS"
      },
      "outputs": [],
      "source": [
        "def evaluate_model(model, data_loader, criterion, device):\n",
        "    model.eval()\n",
        "    running_loss = 0.0\n",
        "    all_preds = []\n",
        "    all_labels = []\n",
        "\n",
        "    with torch.no_grad():\n",
        "        for images, labels in data_loader:\n",
        "            images = images.to(device)\n",
        "            labels = labels.to(device)\n",
        "\n",
        "            outputs = model(images)\n",
        "            loss = criterion(outputs, labels)\n",
        "            running_loss += loss.item()\n",
        "\n",
        "            preds = torch.argmax(outputs, dim=1)\n",
        "            all_preds.extend(preds.cpu().numpy())\n",
        "            all_labels.extend(labels.cpu().numpy())\n",
        "\n",
        "    avg_loss = running_loss / len(data_loader)\n",
        "    f1 = f1_score(all_labels, all_preds, average='weighted')\n",
        "    return avg_loss, f1"
      ]
    },
    {
      "cell_type": "code",
      "execution_count": null,
      "metadata": {
        "colab": {
          "base_uri": "https://localhost:8080/"
        },
        "id": "0o42BeXpSsjH",
        "outputId": "c11ba7b5-350e-4e87-bc07-e3e206ee54a4"
      },
      "outputs": [
        {
          "output_type": "stream",
          "name": "stdout",
          "text": [
            "Época 1/100 | Train Loss: 0.5059 | Val Loss: 0.6328 | Val F1: 0.6909\n",
            "Época 2/100 | Train Loss: 0.3928 | Val Loss: 0.5343 | Val F1: 0.7815\n",
            "Época 3/100 | Train Loss: 0.3363 | Val Loss: 0.4759 | Val F1: 0.7841\n",
            "Época 4/100 | Train Loss: 0.2306 | Val Loss: 0.6079 | Val F1: 0.8004\n",
            "Época 5/100 | Train Loss: 0.1293 | Val Loss: 0.6942 | Val F1: 0.7885\n",
            "Época 6/100 | Train Loss: 0.0841 | Val Loss: 0.6955 | Val F1: 0.7867\n",
            "Época 7/100 | Train Loss: 0.0658 | Val Loss: 0.6975 | Val F1: 0.7693\n",
            "Época 8/100 | Train Loss: 0.0445 | Val Loss: 0.8117 | Val F1: 0.7566\n",
            "Época 9/100 | Train Loss: 0.0231 | Val Loss: 0.8224 | Val F1: 0.8362\n",
            "Época 10/100 | Train Loss: 0.0212 | Val Loss: 1.0628 | Val F1: 0.7826\n",
            "Época 11/100 | Train Loss: 0.0237 | Val Loss: 0.7229 | Val F1: 0.7919\n",
            "Época 12/100 | Train Loss: 0.0119 | Val Loss: 1.0148 | Val F1: 0.8321\n",
            "Época 13/100 | Train Loss: 0.0219 | Val Loss: 1.1400 | Val F1: 0.7685\n",
            "Época 14/100 | Train Loss: 0.0094 | Val Loss: 1.2882 | Val F1: 0.8113\n",
            "Early stopping at epoch 14\n"
          ]
        }
      ],
      "source": [
        "model = train_model(\n",
        "    model,\n",
        "    train_loader,\n",
        "    val_loader,\n",
        "    criterion,\n",
        "    optimizer,\n",
        "    scheduler,\n",
        "    device,\n",
        "    epochs\n",
        ")"
      ]
    },
    {
      "cell_type": "code",
      "execution_count": null,
      "metadata": {
        "colab": {
          "base_uri": "https://localhost:8080/"
        },
        "id": "5JBwU3yGizI4",
        "outputId": "55d4a3df-c7c8-4fa4-89bb-b10bc0977322"
      },
      "outputs": [
        {
          "output_type": "stream",
          "name": "stdout",
          "text": [
            "\n",
            " Classification Report:\n",
            "\n",
            "                 precision    recall  f1-score   support\n",
            "\n",
            "Eyes Opened (O)       1.00      1.00      1.00     12140\n",
            "Eyes Closed (C)       1.00      1.00      1.00     12150\n",
            "\n",
            "       accuracy                           1.00     24290\n",
            "      macro avg       1.00      1.00      1.00     24290\n",
            "   weighted avg       1.00      1.00      1.00     24290\n",
            "\n"
          ]
        },
        {
          "output_type": "display_data",
          "data": {
            "text/plain": [
              "<Figure size 600x500 with 2 Axes>"
            ],
            "image/png": "[encoded data removed]"
          },
          "metadata": {}
        }
      ],
      "source": [
        "test_model(model, train_loader, device, list(conditions.values()))"
      ]
    },
    {
      "cell_type": "code",
      "execution_count": null,
      "metadata": {
        "colab": {
          "base_uri": "https://localhost:8080/"
        },
        "id": "sbV6zkABzG72",
        "outputId": "0982be4a-8fa4-4945-e4d1-f0ed147ca2f6"
      },
      "outputs": [
        {
          "output_type": "stream",
          "name": "stdout",
          "text": [
            "\n",
            " Classification Report:\n",
            "\n",
            "                 precision    recall  f1-score   support\n",
            "\n",
            "Eyes Opened (O)       0.81      0.83      0.82       240\n",
            "Eyes Closed (C)       0.82      0.80      0.81       240\n",
            "\n",
            "       accuracy                           0.82       480\n",
            "      macro avg       0.82      0.82      0.82       480\n",
            "   weighted avg       0.82      0.82      0.82       480\n",
            "\n"
          ]
        },
        {
          "output_type": "display_data",
          "data": {
            "text/plain": [
              "<Figure size 600x500 with 2 Axes>"
            ],
            "image/png": "[encoded data removed]"
          },
          "metadata": {}
        }
      ],
      "source": [
        "test_model(model, test_loader, device, list(conditions.values()))"
      ]
    }
  ],
  "metadata": {
    "accelerator": "GPU",
    "colab": {
      "gpuType": "T4",
      "provenance": [],
      "include_colab_link": true
    },
    "kernelspec": {
      "display_name": "Python 3",
      "name": "python3"
    },
    "language_info": {
      "name": "python"
    }
  },
  "nbformat": 4,
  "nbformat_minor": 0
}