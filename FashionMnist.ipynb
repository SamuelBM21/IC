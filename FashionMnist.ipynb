{
  "cells": [
    {
      "cell_type": "markdown",
      "metadata": {
        "id": "view-in-github",
        "colab_type": "text"
      },
      "source": [
        "<a href=\"https://colab.research.google.com/github/SamuelBM21/IC/blob/main/FashionMnist.ipynb\" target=\"_parent\"><img src=\"https://colab.research.google.com/assets/colab-badge.svg\" alt=\"Open In Colab\"/></a>"
      ]
    },
    {
      "cell_type": "code",
      "execution_count": null,
      "id": "0e394268-fc1b-4976-a6d1-3237e96ee0ed",
      "metadata": {
        "id": "0e394268-fc1b-4976-a6d1-3237e96ee0ed"
      },
      "outputs": [],
      "source": [
        "import pandas as pd\n",
        "import numpy as np\n",
        "import matplotlib.pyplot as plt"
      ]
    },
    {
      "cell_type": "code",
      "source": [
        "from google.colab import drive\n",
        "drive.mount('/content/drive')"
      ],
      "metadata": {
        "colab": {
          "base_uri": "https://localhost:8080/"
        },
        "id": "IQ08fuCV-6nt",
        "outputId": "49ed0119-f9fd-49c4-c7ff-c66cccd69dcc"
      },
      "id": "IQ08fuCV-6nt",
      "execution_count": null,
      "outputs": [
        {
          "output_type": "stream",
          "name": "stdout",
          "text": [
            "Mounted at /content/drive\n"
          ]
        }
      ]
    },
    {
      "cell_type": "code",
      "execution_count": null,
      "id": "ab565a7c-a676-485f-b5e0-9c27e9abe198",
      "metadata": {
        "scrolled": true,
        "id": "ab565a7c-a676-485f-b5e0-9c27e9abe198"
      },
      "outputs": [],
      "source": [
        "df = pd.read_csv('/content/drive/MyDrive/DataSets/fashion-mnist_train.csv')"
      ]
    },
    {
      "cell_type": "code",
      "execution_count": null,
      "id": "4a199165-bf55-46aa-9365-c0708a5b51e2",
      "metadata": {
        "id": "4a199165-bf55-46aa-9365-c0708a5b51e2"
      },
      "outputs": [],
      "source": [
        "data = np.array(df)\n",
        "m,n = data.shape\n",
        "np.random.shuffle(data)\n",
        "\n",
        "data_train=data.T\n",
        "Y_train=data_train[0]         #labels\n",
        "X_train=data_train[1:n]       #Values\n",
        "X_train = X_train / 255.\n",
        "_,m_train = X_train.shape"
      ]
    },
    {
      "cell_type": "code",
      "execution_count": null,
      "id": "229f9d1e-9c54-4cfb-8b67-d74b4539ea8a",
      "metadata": {
        "id": "229f9d1e-9c54-4cfb-8b67-d74b4539ea8a"
      },
      "outputs": [],
      "source": [
        "def ReLU(Z):\n",
        "    return np.maximum(0,Z);\n",
        "\n",
        "def softmax(Z):\n",
        "    A = np.exp(Z) / sum(np.exp(Z))\n",
        "    return A"
      ]
    },
    {
      "cell_type": "code",
      "execution_count": null,
      "id": "39681cb4-da86-479d-8a44-dd333293a19e",
      "metadata": {
        "id": "39681cb4-da86-479d-8a44-dd333293a19e"
      },
      "outputs": [],
      "source": [
        "def init_params():\n",
        "    w1 = np.random.rand(10, 784) * np.sqrt(2/784)\n",
        "    #b1 = np.random.rand(10, 1) - 0.5\n",
        "    b1 = np.zeros((10, 1))\n",
        "    w2 = np.random.rand(10, 10) * np.sqrt(2/10)\n",
        "    #b2 = np.random.rand(10, 1) - 0.5\n",
        "    b2 = np.zeros((10, 1))\n",
        "    return w1, b1, w2, b2"
      ]
    },
    {
      "cell_type": "code",
      "execution_count": null,
      "id": "d82a6959-76d0-4bc7-9914-82753a30078a",
      "metadata": {
        "id": "d82a6959-76d0-4bc7-9914-82753a30078a"
      },
      "outputs": [],
      "source": [
        "def forward_prop(w1, b1, w2, b2, X):\n",
        "    z1 = w1.dot(X) + b1\n",
        "    a1 = ReLU(z1)\n",
        "    z2 = w2.dot(a1) + b2\n",
        "    a2 = softmax(z2)\n",
        "    return z1, a1, z2, a2"
      ]
    },
    {
      "cell_type": "code",
      "execution_count": null,
      "id": "58df3bec-7222-4a95-a928-d5437ec1bead",
      "metadata": {
        "id": "58df3bec-7222-4a95-a928-d5437ec1bead"
      },
      "outputs": [],
      "source": [
        "def back_prop(z1, a1, z2, a2, w2, Y, X):\n",
        "    one_hot_Y = np.zeros((Y.size,10))\n",
        "    one_hot_Y[np.arange(Y.size), Y] = 1\n",
        "    one_hot_Y = one_hot_Y.T\n",
        "    dZ2 = a2 - one_hot_Y\n",
        "    dW2 = 1/m * dZ2.dot(a1.T)\n",
        "    db2 = 1/m * np.sum(dZ2)\n",
        "    dZ1 = w2.T.dot(dZ2) * (z1 > 0)\n",
        "    dW1 = 1/m * dZ1.dot(X.T)\n",
        "    db1 = 1/m * np.sum(dZ1)\n",
        "    return dW1, db1, dW2, db2\n",
        "\n",
        "def compute_loss(a2, Y):\n",
        "    one_hot_Y = np.zeros((Y.size,10))\n",
        "    one_hot_Y[np.arange(Y.size), Y] = 1\n",
        "    one_hot_Y = one_hot_Y.T\n",
        "    loss = -np.sum(one_hot_Y * np.log(a2)) / Y.size\n",
        "    return loss\n",
        "\n",
        "def update_params(W1, b1, W2, b2, dW1, db1, dW2, db2, alpha):\n",
        "    W1 -= alpha * dW1\n",
        "    b1 -= alpha * db1\n",
        "    W2 -= alpha * dW2\n",
        "    b2 -= alpha * db2\n",
        "    return W1, b1, W2, b2"
      ]
    },
    {
      "cell_type": "code",
      "execution_count": null,
      "id": "43167b92-5a2e-429e-a419-d4cd21df3170",
      "metadata": {
        "id": "43167b92-5a2e-429e-a419-d4cd21df3170"
      },
      "outputs": [],
      "source": [
        "def gradient_descent(X, Y, iterations, alpha, batch_size):\n",
        "    w1, b1, w2, b2 = init_params()\n",
        "    m = X.shape[1]\n",
        "    for i in range(iterations):\n",
        "        z1, a1, z2, a2 = forward_prop(w1, b1, w2, b2, X)\n",
        "        dW1, db1, dW2, db2 = back_prop(z1, a1, z2, a2, w2, Y, X)\n",
        "        w1, b1, w2, b2 = update_params(w1, b1, w2, b2, dW1, db1, dW2, db2, alpha)\n",
        "        if i % 10 == 0:\n",
        "                loss = compute_loss(a2, Y)\n",
        "                acc = get_accuracy(get_predictions(a2), Y)\n",
        "                print(f\"Iteration {i} => Loss: {loss:.4f}, Accuracy: {acc:.4f}\")\n",
        "    return w1, b1, w2, b2\n",
        "\n",
        "# def gradient_descent(X, Y, iterations, alpha, batch_size):\n",
        "#     w1, b1, w2, b2 = init_params()\n",
        "#     m = X.shape[1]  # número total de exemplos\n",
        "\n",
        "#     for i in range(iterations):\n",
        "#         permutation = np.random.permutation(m)\n",
        "#         X_shuffled = X[:, permutation]\n",
        "#         Y_shuffled = Y[permutation]\n",
        "\n",
        "#         for j in range(0, m, batch_size):\n",
        "#             end = j + batch_size\n",
        "#             X_batch = X_shuffled[:, j:end]\n",
        "#             Y_batch = Y_shuffled[j:end]\n",
        "\n",
        "#             z1, a1, z2, a2 = forward_prop(w1, b1, w2, b2, X_batch)\n",
        "#             dW1, db1, dW2, db2 = back_prop(z1, a1, z2, a2, w2, Y_batch, X_batch)\n",
        "#             w1, b1, w2, b2 = update_params(w1, b1, w2, b2, dW1, db1, dW2, db2, alpha)\n",
        "\n",
        "#         Monitoramento após cada iteração completa\n",
        "#         if i % 10 == 0:\n",
        "#             _, _, _, a2_full = forward_prop(w1, b1, w2, b2, X)\n",
        "#             loss = compute_loss(a2_full, Y)\n",
        "#             acc = get_accuracy(get_predictions(a2_full), Y)\n",
        "#             print(f\"Iteration {i}: Loss = {loss:.4f}, Accuracy = {acc:.4f}\")\n",
        "\n",
        "#     return w1, b1, w2, b2"
      ]
    },
    {
      "cell_type": "code",
      "execution_count": null,
      "id": "c225be68-fe4b-4f60-bbf7-1aba6052a209",
      "metadata": {
        "id": "c225be68-fe4b-4f60-bbf7-1aba6052a209"
      },
      "outputs": [],
      "source": [
        "# Testing and evaluation\n",
        "def test_prediction(index, W1, b1, W2, b2):\n",
        "    labels = [\n",
        "      \"T-shirt/top\",\n",
        "      \"Trouser\",\n",
        "      \"Pullover\",\n",
        "      \"Dress\",\n",
        "      \"Coat\",\n",
        "      \"Sandal\",\n",
        "      \"Shirt\",\n",
        "      \"Sneaker\",\n",
        "      \"Bag\",\n",
        "      \"Ankle boot\"\n",
        "    ]\n",
        "    current_image = X_train[:, index, None]\n",
        "    prediction = make_predictions(X_train[:, index, None], W1, b1, W2, b2)\n",
        "    label = Y_train[index]\n",
        "    print(\"Prediction: \", labels[prediction[0]])\n",
        "    print(\"Label: \", labels[label])\n",
        "    current_image = current_image.reshape((28, 28)) * 255\n",
        "    plt.gray()\n",
        "    plt.imshow(current_image, interpolation='nearest')\n",
        "    plt.show()\n",
        "\n",
        "# Calculate accuracy\n",
        "def get_accuracy(predictions, Y):\n",
        "    return np.sum(predictions == Y) / Y.size           #Total de vezes que o valor foi igual ao label / pelo total de valores\n",
        "\n",
        "def get_predictions(a2):\n",
        "    return np.argmax(a2,0)"
      ]
    },
    {
      "cell_type": "code",
      "execution_count": null,
      "id": "97548507-b59d-4f85-8f9b-71c9d09aa144",
      "metadata": {
        "id": "97548507-b59d-4f85-8f9b-71c9d09aa144"
      },
      "outputs": [],
      "source": [
        "def make_predictions(X, W1, b1, W2, b2):\n",
        "    _, _, _, A2 = forward_prop(W1, b1, W2, b2, X)\n",
        "    predictions = np.argmax(A2, 0)\n",
        "    return predictions"
      ]
    },
    {
      "cell_type": "code",
      "execution_count": null,
      "id": "82d67976-8004-4b99-8900-714d95cb4966",
      "metadata": {
        "colab": {
          "base_uri": "https://localhost:8080/"
        },
        "id": "82d67976-8004-4b99-8900-714d95cb4966",
        "outputId": "01b13de0-82fa-428d-a83f-debc649d509b"
      },
      "outputs": [
        {
          "output_type": "stream",
          "name": "stdout",
          "text": [
            "Iteration 0 => Loss: 2.3265, Accuracy: 0.1000\n",
            "Iteration 10 => Loss: 2.3707, Accuracy: 0.1000\n",
            "Iteration 20 => Loss: 2.2224, Accuracy: 0.1001\n",
            "Iteration 30 => Loss: 2.0107, Accuracy: 0.2236\n",
            "Iteration 40 => Loss: 1.6880, Accuracy: 0.4358\n",
            "Iteration 50 => Loss: 1.4924, Accuracy: 0.5030\n",
            "Iteration 60 => Loss: 1.3719, Accuracy: 0.5430\n",
            "Iteration 70 => Loss: 1.2713, Accuracy: 0.5691\n",
            "Iteration 80 => Loss: 1.1845, Accuracy: 0.5891\n",
            "Iteration 90 => Loss: 1.1085, Accuracy: 0.6021\n",
            "Iteration 100 => Loss: 1.0455, Accuracy: 0.6110\n",
            "Iteration 110 => Loss: 0.9956, Accuracy: 0.6172\n",
            "Iteration 120 => Loss: 0.9570, Accuracy: 0.6227\n",
            "Iteration 130 => Loss: 0.9265, Accuracy: 0.6276\n",
            "Iteration 140 => Loss: 0.9013, Accuracy: 0.6322\n",
            "Iteration 150 => Loss: 0.8799, Accuracy: 0.6362\n",
            "Iteration 160 => Loss: 0.8613, Accuracy: 0.6404\n",
            "Iteration 170 => Loss: 0.8447, Accuracy: 0.6452\n",
            "Iteration 180 => Loss: 0.8297, Accuracy: 0.6513\n",
            "Iteration 190 => Loss: 0.8160, Accuracy: 0.6582\n",
            "Iteration 200 => Loss: 0.8034, Accuracy: 0.6660\n",
            "Iteration 210 => Loss: 0.7914, Accuracy: 0.6752\n",
            "Iteration 220 => Loss: 0.7802, Accuracy: 0.6830\n",
            "Iteration 230 => Loss: 0.7696, Accuracy: 0.6912\n",
            "Iteration 240 => Loss: 0.7595, Accuracy: 0.6982\n",
            "Iteration 250 => Loss: 0.7498, Accuracy: 0.7056\n",
            "Iteration 260 => Loss: 0.7405, Accuracy: 0.7121\n",
            "Iteration 270 => Loss: 0.7315, Accuracy: 0.7182\n",
            "Iteration 280 => Loss: 0.7228, Accuracy: 0.7240\n",
            "Iteration 290 => Loss: 0.7144, Accuracy: 0.7298\n",
            "Iteration 300 => Loss: 0.7062, Accuracy: 0.7346\n",
            "Iteration 310 => Loss: 0.6984, Accuracy: 0.7393\n",
            "Iteration 320 => Loss: 0.6908, Accuracy: 0.7437\n",
            "Iteration 330 => Loss: 0.6834, Accuracy: 0.7473\n",
            "Iteration 340 => Loss: 0.6762, Accuracy: 0.7508\n",
            "Iteration 350 => Loss: 0.6695, Accuracy: 0.7552\n",
            "Iteration 360 => Loss: 0.6643, Accuracy: 0.7591\n",
            "Iteration 370 => Loss: 0.6624, Accuracy: 0.7618\n",
            "Iteration 380 => Loss: 0.6593, Accuracy: 0.7639\n",
            "Iteration 390 => Loss: 0.6540, Accuracy: 0.7660\n",
            "Iteration 400 => Loss: 0.6490, Accuracy: 0.7666\n",
            "Iteration 410 => Loss: 0.6448, Accuracy: 0.7661\n",
            "Iteration 420 => Loss: 0.6402, Accuracy: 0.7654\n",
            "Iteration 430 => Loss: 0.6332, Accuracy: 0.7682\n",
            "Iteration 440 => Loss: 0.6254, Accuracy: 0.7732\n",
            "Iteration 450 => Loss: 0.6188, Accuracy: 0.7776\n",
            "Iteration 460 => Loss: 0.6135, Accuracy: 0.7809\n",
            "Iteration 470 => Loss: 0.6091, Accuracy: 0.7836\n",
            "Iteration 480 => Loss: 0.6067, Accuracy: 0.7846\n",
            "Iteration 490 => Loss: 0.6085, Accuracy: 0.7839\n"
          ]
        }
      ],
      "source": [
        "w1, b1, w2, b2=gradient_descent(X_train, Y_train, 500, 0.1, 64)"
      ]
    },
    {
      "cell_type": "code",
      "execution_count": null,
      "id": "3e5806a9-b9ec-4777-a010-a3b87fe17f8a",
      "metadata": {
        "colab": {
          "base_uri": "https://localhost:8080/",
          "height": 1000
        },
        "id": "3e5806a9-b9ec-4777-a010-a3b87fe17f8a",
        "outputId": "a890c4f5-5738-42f2-df9b-c2ff2a0d2d55"
      },
      "outputs": [
        {
          "output_type": "stream",
          "name": "stdout",
          "text": [
            "Prediction:  Sandal\n",
            "Label:  Sandal\n"
          ]
        },
        {
          "output_type": "display_data",
          "data": {
            "text/plain": [
              "<Figure size 640x480 with 1 Axes>"
            ],
            "image/png": "[encoded data removed]"
          },
          "metadata": {}
        },
        {
          "output_type": "stream",
          "name": "stdout",
          "text": [
            "Prediction:  Sandal\n",
            "Label:  Sandal\n"
          ]
        },
        {
          "output_type": "display_data",
          "data": {
            "text/plain": [
              "<Figure size 640x480 with 1 Axes>"
            ],
            "image/png": "[encoded data removed]"
          },
          "metadata": {}
        },
        {
          "output_type": "stream",
          "name": "stdout",
          "text": [
            "Prediction:  Bag\n",
            "Label:  Bag\n"
          ]
        },
        {
          "output_type": "display_data",
          "data": {
            "text/plain": [
              "<Figure size 640x480 with 1 Axes>"
            ],
            "image/png": "[encoded data removed]"
          },
          "metadata": {}
        },
        {
          "output_type": "stream",
          "name": "stdout",
          "text": [
            "Prediction:  Pullover\n",
            "Label:  Pullover\n"
          ]
        },
        {
          "output_type": "display_data",
          "data": {
            "text/plain": [
              "<Figure size 640x480 with 1 Axes>"
            ],
            "image/png": "[encoded data removed]"
          },
          "metadata": {}
        }
      ],
      "source": [
        "test_prediction(652, w1, b1, w2, b2)\n",
        "test_prediction(740, w1, b1, w2, b2)\n",
        "test_prediction(291, w1, b1, w2, b2)\n",
        "test_prediction(222, w1, b1, w2, b2)"
      ]
    }
  ],
  "metadata": {
    "kernelspec": {
      "display_name": "Python 3 (ipykernel)",
      "language": "python",
      "name": "python3"
    },
    "language_info": {
      "codemirror_mode": {
        "name": "ipython",
        "version": 3
      },
      "file_extension": ".py",
      "mimetype": "text/x-python",
      "name": "python",
      "nbconvert_exporter": "python",
      "pygments_lexer": "ipython3",
      "version": "3.10.12"
    },
    "colab": {
      "provenance": [],
      "include_colab_link": true
    }
  },
  "nbformat": 4,
  "nbformat_minor": 5
}