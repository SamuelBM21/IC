{
  "nbformat": 4,
  "nbformat_minor": 0,
  "metadata": {
    "colab": {
      "provenance": [],
      "gpuType": "T4",
      "authorship_tag": "ABX9TyNHu3625xlHSrf5Ira3bBNV",
      "include_colab_link": true
    },
    "kernelspec": {
      "name": "python3",
      "display_name": "Python 3"
    },
    "language_info": {
      "name": "python"
    },
    "accelerator": "GPU"
  },
  "cells": [
    {
      "cell_type": "markdown",
      "metadata": {
        "id": "view-in-github",
        "colab_type": "text"
      },
      "source": [
        "<a href=\"https://colab.research.google.com/github/SamuelBM21/IC/blob/main/EEGCategorizationCNN_EOEC.ipynb\" target=\"_parent\"><img src=\"https://colab.research.google.com/assets/colab-badge.svg\" alt=\"Open In Colab\"/></a>"
      ]
    },
    {
      "cell_type": "code",
      "execution_count": null,
      "metadata": {
        "id": "-h55ManZSRfK"
      },
      "outputs": [],
      "source": [
        "import torch                        #PyTorch\n",
        "import torch.nn as nn               #Camadas da Rede neural\n",
        "import torch.optim as optim         #Otimizadores\n",
        "import pandas as pd\n",
        "import numpy as np\n",
        "import os\n",
        "import matplotlib.pyplot as plt\n",
        "from torch.utils.data import Dataset, DataLoader\n",
        "from sklearn.preprocessing import LabelBinarizer\n",
        "from sklearn.metrics import classification_report, confusion_matrix, f1_score\n",
        "from torch.optim.lr_scheduler import ReduceLROnPlateau\n",
        "import seaborn as sns\n",
        "import copy"
      ]
    },
    {
      "cell_type": "code",
      "source": [
        "from google.colab import drive\n",
        "drive.mount('/content/drive')"
      ],
      "metadata": {
        "colab": {
          "base_uri": "https://localhost:8080/"
        },
        "id": "YLxc8cGQSloP",
        "outputId": "7cfc3aa9-c3a8-42e5-b578-90239d157dbc",
        "collapsed": true
      },
      "execution_count": null,
      "outputs": [
        {
          "output_type": "stream",
          "name": "stdout",
          "text": [
            "Mounted at /content/drive\n"
          ]
        }
      ]
    },
    {
      "cell_type": "code",
      "source": [
        "\n",
        "class EEGWindowDataset(Dataset):\n",
        "    def __init__(self, folder_path, subjects, tasks, sampling_points=1920, offset=35, label_map=None, transform=None):\n",
        "        self.windows = []\n",
        "        self.labels = []\n",
        "        self.transform = transform\n",
        "\n",
        "        for subj in subjects:\n",
        "            for task in tasks:\n",
        "                file_name = f\"S{subj:03d}{task}.csv\"\n",
        "                file_path = os.path.join(folder_path, f\"S{subj:03d}\", file_name)\n",
        "\n",
        "                if not os.path.exists(file_path):\n",
        "                    print(f\"[AVISO] Arquivo não encontrado: {file_path}\")\n",
        "                    continue\n",
        "\n",
        "                data = np.loadtxt(file_path, delimiter=',')  # shape: (64, total_amostras)\n",
        "                total_points = data.shape[1]\n",
        "\n",
        "                for start in range(0, total_points - sampling_points + 1, offset):\n",
        "                    end = start + sampling_points\n",
        "                    window = data[:, start:end]  # shape: (64, 1920)\n",
        "                    if self.transform:\n",
        "                        window = self.transform(window)\n",
        "                    self.windows.append(window)\n",
        "                    self.labels.append(label_map[task] if label_map else 0)\n",
        "\n",
        "    def __len__(self):\n",
        "        return len(self.windows)\n",
        "\n",
        "    def __getitem__(self, idx):\n",
        "        x = torch.tensor(self.windows[idx], dtype=torch.float32)\n",
        "        y = torch.tensor(self.labels[idx], dtype=torch.long)\n",
        "        return x, y\n"
      ],
      "metadata": {
        "id": "EspvlVyR-kVo"
      },
      "execution_count": null,
      "outputs": []
    },
    {
      "cell_type": "code",
      "source": [
        "class EEGFixedTestDataset(Dataset):\n",
        "    def __init__(self, folder_path, subjects, tasks=['R01', 'R02'], sampling_points=1920, label_map=None):\n",
        "        self.windows = []\n",
        "        self.labels = []\n",
        "\n",
        "        for subj in subjects:\n",
        "            for task in tasks:\n",
        "                file_name = f\"S{subj:03d}{task}.csv\"\n",
        "                file_path = os.path.join(folder_path, f\"S{subj:03d}\", file_name)\n",
        "\n",
        "                if not os.path.exists(file_path):\n",
        "                    print(f\"[AVISO] Arquivo não encontrado: {file_path}\")\n",
        "                    continue\n",
        "\n",
        "                data = np.loadtxt(file_path, delimiter=',')  # shape: (64, total_amostras)\n",
        "                total_points = data.shape[1]\n",
        "\n",
        "                step = (total_points - sampling_points) // 4\n",
        "                for i in range(5):\n",
        "                    start = i * step\n",
        "                    end = start + sampling_points\n",
        "                    window = data[:, start:end]\n",
        "                    self.windows.append(window)\n",
        "                    self.labels.append(label_map[task] if label_map else 0)\n",
        "\n",
        "    def __len__(self):\n",
        "        return len(self.windows)\n",
        "\n",
        "    def __getitem__(self, idx):\n",
        "        x = torch.tensor(self.windows[idx], dtype=torch.float32)\n",
        "        y = torch.tensor(self.labels[idx], dtype=torch.long)\n",
        "        return x, y"
      ],
      "metadata": {
        "id": "wbyM-JwV8Jsi"
      },
      "execution_count": null,
      "outputs": []
    },
    {
      "cell_type": "code",
      "source": [
        "batch_size = 16\n",
        "learning_rate = 0.001\n",
        "epochs = 100\n",
        "\n",
        "conditions = {\n",
        "    0: \"Eyes Opened (O)\",\n",
        "    1: \"Eyes Closed (C)\",\n",
        "}\n",
        "\n",
        "\n",
        "# Divisão 90% treino / 10% validação\n",
        "all_subjects = list(range(1, 61))\n",
        "np.random.seed(42)\n",
        "np.random.shuffle(all_subjects)\n",
        "test_subjects = list(range(61, 109))\n",
        "train_size = int(0.9 * len(all_subjects))\n",
        "train_subjects = all_subjects[:train_size]\n",
        "val_subjects = all_subjects[train_size:]\n",
        "\n",
        "label_map = {'R01': 0, 'R02': 1}\n",
        "\n",
        "# Datasets com janelamento e offset\n",
        "train_dataset = EEGWindowDataset(\n",
        "    folder_path='/content/drive/MyDrive/EEGDataset/Dataset_CSV',\n",
        "    subjects=train_subjects,\n",
        "    tasks=['R01', 'R02'],\n",
        "    sampling_points=1920,\n",
        "    offset=35,\n",
        "    label_map=label_map\n",
        ")\n",
        "\n",
        "val_dataset = EEGWindowDataset(\n",
        "    folder_path='/content/drive/MyDrive/EEGDataset/Dataset_CSV',\n",
        "    subjects=val_subjects,\n",
        "    tasks=['R01', 'R02'],\n",
        "    sampling_points=1920,\n",
        "    offset=35,\n",
        "    label_map=label_map\n",
        ")\n",
        "\n",
        "# Teste fixo (5 segmentos EC e EO por sujeito)\n",
        "test_dataset = EEGFixedTestDataset(\n",
        "    folder_path='/content/drive/MyDrive/EEGDataset/Dataset_CSV',\n",
        "    subjects=test_subjects,\n",
        "    tasks=['R01', 'R02'],\n",
        "    sampling_points=1920,\n",
        "    label_map=label_map\n",
        ")\n",
        "\n",
        "train_loader = torch.utils.data.DataLoader(train_dataset, batch_size=batch_size, shuffle=True)\n",
        "val_loader = torch.utils.data.DataLoader(val_dataset, batch_size=batch_size, shuffle=False)\n",
        "test_loader = torch.utils.data.DataLoader(test_dataset, batch_size=batch_size, shuffle=False)"
      ],
      "metadata": {
        "id": "7NFM1x_mWfmc"
      },
      "execution_count": null,
      "outputs": []
    },
    {
      "cell_type": "code",
      "source": [
        "class EEG_CNN(nn.Module):\n",
        "    def __init__(self, num_classes=2):\n",
        "        super().__init__()\n",
        "        self.conv_layer = nn.Sequential(\n",
        "            nn.Conv1d(64, 32, kernel_size=7, padding=3),   # [B, 32, 1920]\n",
        "            nn.BatchNorm1d(32),\n",
        "            nn.ReLU(),\n",
        "            nn.Dropout(0.3),\n",
        "            nn.MaxPool1d(2),                              # [B, 32, 960]\n",
        "\n",
        "\n",
        "            nn.Conv1d(32, 64, kernel_size=5, padding=2),  # [B, 64, 960]\n",
        "            nn.BatchNorm1d(64),\n",
        "            nn.ReLU(),\n",
        "            nn.Dropout(0.3),\n",
        "            nn.MaxPool1d(2),                              # [B, 64, 480]\n",
        "\n",
        "            nn.Conv1d(64, 128, kernel_size=3, padding=1), # [B, 128, 480]\n",
        "            nn.BatchNorm1d(128),\n",
        "            nn.ReLU(),\n",
        "            nn.Dropout(0.3),\n",
        "            nn.MaxPool1d(2),                              # [B, 128, 240]\n",
        "\n",
        "            nn.Conv1d(128, 256, kernel_size=3, padding=1),# [B, 256, 240]\n",
        "            nn.BatchNorm1d(256),\n",
        "            nn.ReLU(),\n",
        "            nn.Dropout(0.3),\n",
        "            nn.MaxPool1d(2)                               # [B, 256, 120]\n",
        "        )\n",
        "\n",
        "        self.global_pool = nn.AdaptiveAvgPool1d(1)\n",
        "\n",
        "        self.fc_layer = nn.Sequential(\n",
        "            nn.Flatten(),                      # [B, 256*11]\n",
        "            nn.Linear(256, 512),\n",
        "            nn.ReLU(),\n",
        "            nn.Dropout(0.5),\n",
        "            nn.Linear(512, 128),\n",
        "            nn.ReLU(),\n",
        "            nn.Linear(128, num_classes)        # saída = 5 classes\n",
        "        )\n",
        "\n",
        "    def forward(self, x):\n",
        "        x = self.conv_layer(x)\n",
        "        x = self.global_pool(x)\n",
        "        x = self.fc_layer(x)\n",
        "        return x"
      ],
      "metadata": {
        "id": "SoP56nYsXa5w"
      },
      "execution_count": null,
      "outputs": []
    },
    {
      "cell_type": "code",
      "source": [
        "device = torch.device(\"cuda\" if torch.cuda.is_available() else \"cpu\")\n",
        "model = EEG_CNN().to(device)\n",
        "criterion = nn.CrossEntropyLoss()\n",
        "optimizer = torch.optim.Adam(model.parameters(), lr=learning_rate, weight_decay=1e-5)\n",
        "scheduler = ReduceLROnPlateau(\n",
        "    optimizer,\n",
        "    mode='max',\n",
        "    factor=0.5,\n",
        "    patience=3\n",
        ")"
      ],
      "metadata": {
        "id": "gzQ6d0JfSsoa"
      },
      "execution_count": null,
      "outputs": []
    },
    {
      "cell_type": "code",
      "source": [
        "def train_model(model, train_loader, val_loader, criterion, optimizer, scheduler, device, epochs=100):\n",
        "    best_f1 = 0.0\n",
        "    best_model_wts = copy.deepcopy(model.state_dict())\n",
        "    patience, counter = 5, 0\n",
        "\n",
        "    for epoch in range(epochs):\n",
        "        model.train()\n",
        "        running_loss = 0.0\n",
        "\n",
        "        for images, labels in train_loader:\n",
        "            images = images.to(device)\n",
        "            labels = labels.to(device)\n",
        "\n",
        "            optimizer.zero_grad()\n",
        "            outputs = model(images)\n",
        "            loss = criterion(outputs, labels)\n",
        "            loss.backward()\n",
        "            optimizer.step()\n",
        "\n",
        "            running_loss += loss.item()\n",
        "\n",
        "        # Validação\n",
        "        val_loss, val_f1 = evaluate_model(model, val_loader, criterion, device)\n",
        "        scheduler.step(val_f1)\n",
        "\n",
        "        print(f\"Época {epoch+1}/{epochs} | Train Loss: {running_loss/len(train_loader):.4f} | Val Loss: {val_loss:.4f} | Val F1: {val_f1:.4f}\")\n",
        "\n",
        "        # Early stopping\n",
        "        if val_f1 > best_f1:\n",
        "            best_f1 = val_f1\n",
        "            best_model_wts = copy.deepcopy(model.state_dict())\n",
        "            counter = 0\n",
        "        else:\n",
        "            counter += 1\n",
        "            if counter >= patience:\n",
        "                print(f\"Early stopping at epoch {epoch+1}\")\n",
        "                break\n",
        "\n",
        "    # Carregar melhor modelo\n",
        "    model.load_state_dict(best_model_wts)\n",
        "    return model"
      ],
      "metadata": {
        "id": "b04ohZheSsl2"
      },
      "execution_count": null,
      "outputs": []
    },
    {
      "cell_type": "code",
      "source": [
        "def evaluate_model(model, data_loader, criterion, device):\n",
        "    model.eval()\n",
        "    running_loss = 0.0\n",
        "    all_preds = []\n",
        "    all_labels = []\n",
        "\n",
        "    with torch.no_grad():\n",
        "        for images, labels in data_loader:\n",
        "            images = images.to(device)\n",
        "            labels = labels.to(device)\n",
        "\n",
        "            outputs = model(images)\n",
        "            loss = criterion(outputs, labels)\n",
        "            running_loss += loss.item()\n",
        "\n",
        "            preds = torch.argmax(outputs, dim=1)\n",
        "            all_preds.extend(preds.cpu().numpy())\n",
        "            all_labels.extend(labels.cpu().numpy())\n",
        "\n",
        "    avg_loss = running_loss / len(data_loader)\n",
        "    f1 = f1_score(all_labels, all_preds, average='weighted')\n",
        "    return avg_loss, f1"
      ],
      "metadata": {
        "id": "WD-ynnx8eBOv"
      },
      "execution_count": null,
      "outputs": []
    },
    {
      "cell_type": "code",
      "source": [
        "def test_model(model, test_loader, device, class_names):\n",
        "    model.eval()\n",
        "    all_preds = []\n",
        "    all_labels = []\n",
        "\n",
        "    with torch.no_grad():\n",
        "        for images, labels in test_loader:\n",
        "            images = images.to(device)\n",
        "            labels = labels.to(device)\n",
        "\n",
        "            outputs = model(images)\n",
        "            preds = torch.argmax(outputs, dim=1)\n",
        "            true_labels = labels # Use the labels directly as they are already class indices\n",
        "\n",
        "            all_preds.extend(preds.cpu().numpy())\n",
        "            all_labels.extend(true_labels.cpu().numpy())\n",
        "\n",
        "    print(\"\\n Classification Report:\\n\")\n",
        "    print(classification_report(all_labels, all_preds, target_names=class_names))\n",
        "\n",
        "    cm = confusion_matrix(all_labels, all_preds)\n",
        "    plt.figure(figsize=(6, 5))\n",
        "    sns.heatmap(cm, annot=True, fmt='d', cmap='Blues', xticklabels=class_names, yticklabels=class_names)\n",
        "    plt.xlabel(\"Predicted\")\n",
        "    plt.ylabel(\"True\")\n",
        "    plt.title(\"Confusion Matrix\")\n",
        "    plt.show()"
      ],
      "metadata": {
        "id": "uxcPAZj3yXMW"
      },
      "execution_count": null,
      "outputs": []
    },
    {
      "cell_type": "code",
      "source": [
        "def plot_prediction(df_test, index, model, device, class_names):\n",
        "    # Extrai o sinal e o rótulo verdadeiro\n",
        "    row = df_test.iloc[index, :187].values.astype(np.float32)\n",
        "    true_label = int(df_test.iloc[index, 187])\n",
        "\n",
        "    # Prepara para o modelo\n",
        "    signal_tensor = torch.tensor(row).unsqueeze(0).unsqueeze(0).to(device)  # shape: [1, 1, 187]\n",
        "\n",
        "    model.eval()\n",
        "    with torch.no_grad():\n",
        "        output = model(signal_tensor)\n",
        "        pred_label = torch.argmax(output, dim=1).item()\n",
        "\n",
        "    # Nome das classes\n",
        "    true_name = class_names[true_label]\n",
        "    pred_name = class_names[pred_label]\n",
        "\n",
        "    # Plot\n",
        "    plt.figure(figsize=(10, 4))\n",
        "    plt.plot(row, color='black', linewidth=1.5)\n",
        "    plt.title(f\"ECG Signal | True: {true_name} | Predicted: {pred_name}\", fontsize=14)\n",
        "    plt.xlabel(\"Time (ms)\", fontsize=12)\n",
        "    plt.ylabel(\"Amplitude (mV)\", fontsize=12)\n",
        "    plt.grid(which='both', linestyle='--', linewidth=0.5, color='red', alpha=0.3)\n",
        "    plt.minorticks_on()\n",
        "    plt.tight_layout()\n",
        "    plt.show()"
      ],
      "metadata": {
        "id": "9D7pgMt_yg_L"
      },
      "execution_count": null,
      "outputs": []
    },
    {
      "cell_type": "code",
      "source": [
        "model = train_model(\n",
        "    model,\n",
        "    train_loader,\n",
        "    val_loader,\n",
        "    criterion,\n",
        "    optimizer,\n",
        "    scheduler,\n",
        "    device,\n",
        "    epochs\n",
        ")"
      ],
      "metadata": {
        "colab": {
          "base_uri": "https://localhost:8080/"
        },
        "id": "0o42BeXpSsjH",
        "outputId": "91f08e3c-11cf-4ef7-c6c7-09f515d2a3dd"
      },
      "execution_count": null,
      "outputs": [
        {
          "output_type": "stream",
          "name": "stdout",
          "text": [
            "Época 1/100 | Train Loss: 0.1778 | Val Loss: 0.5955 | Val F1: 0.7194\n",
            "Época 2/100 | Train Loss: 0.0695 | Val Loss: 0.9495 | Val F1: 0.6995\n",
            "Época 3/100 | Train Loss: 0.0515 | Val Loss: 0.8155 | Val F1: 0.7613\n",
            "Época 4/100 | Train Loss: 0.0314 | Val Loss: 0.7929 | Val F1: 0.7888\n",
            "Época 5/100 | Train Loss: 0.0342 | Val Loss: 0.9898 | Val F1: 0.7690\n",
            "Época 6/100 | Train Loss: 0.0246 | Val Loss: 1.3549 | Val F1: 0.7278\n",
            "Época 7/100 | Train Loss: 0.0198 | Val Loss: 1.0260 | Val F1: 0.7734\n",
            "Época 8/100 | Train Loss: 0.0216 | Val Loss: 1.1151 | Val F1: 0.7730\n",
            "Época 9/100 | Train Loss: 0.0066 | Val Loss: 1.2623 | Val F1: 0.8002\n",
            "Época 10/100 | Train Loss: 0.0064 | Val Loss: 1.2306 | Val F1: 0.7806\n",
            "Época 11/100 | Train Loss: 0.0060 | Val Loss: 1.0637 | Val F1: 0.8322\n",
            "Época 12/100 | Train Loss: 0.0067 | Val Loss: 1.1220 | Val F1: 0.7904\n",
            "Época 13/100 | Train Loss: 0.0078 | Val Loss: 1.7650 | Val F1: 0.7499\n",
            "Época 14/100 | Train Loss: 0.0052 | Val Loss: 1.3267 | Val F1: 0.7797\n",
            "Época 15/100 | Train Loss: 0.0064 | Val Loss: 1.0491 | Val F1: 0.7716\n",
            "Época 16/100 | Train Loss: 0.0037 | Val Loss: 1.5256 | Val F1: 0.7730\n",
            "Early stopping at epoch 16\n"
          ]
        }
      ]
    },
    {
      "cell_type": "code",
      "source": [
        "test_model(model, train_loader, device, list(conditions.values()))"
      ],
      "metadata": {
        "colab": {
          "base_uri": "https://localhost:8080/",
          "height": 706
        },
        "id": "5JBwU3yGizI4",
        "outputId": "530d92b6-a360-46f1-9b53-b0a1859bba54"
      },
      "execution_count": null,
      "outputs": [
        {
          "output_type": "stream",
          "name": "stdout",
          "text": [
            "\n",
            " Classification Report:\n",
            "\n",
            "                 precision    recall  f1-score   support\n",
            "\n",
            "Eyes Opened (O)       1.00      1.00      1.00     12140\n",
            "Eyes Closed (C)       1.00      1.00      1.00     12150\n",
            "\n",
            "       accuracy                           1.00     24290\n",
            "      macro avg       1.00      1.00      1.00     24290\n",
            "   weighted avg       1.00      1.00      1.00     24290\n",
            "\n"
          ]
        },
        {
          "output_type": "display_data",
          "data": {
            "text/plain": [
              "<Figure size 600x500 with 2 Axes>"
            ],
            "image/png": "[encoded data removed]"
          },
          "metadata": {}
        }
      ]
    },
    {
      "cell_type": "code",
      "source": [
        "test_model(model, test_loader, device, list(conditions.values()))"
      ],
      "metadata": {
        "colab": {
          "base_uri": "https://localhost:8080/",
          "height": 706
        },
        "id": "sbV6zkABzG72",
        "outputId": "872ba5b4-43bd-4ab3-dda2-5b4cca8f2e1e"
      },
      "execution_count": null,
      "outputs": [
        {
          "output_type": "stream",
          "name": "stdout",
          "text": [
            "\n",
            " Classification Report:\n",
            "\n",
            "                 precision    recall  f1-score   support\n",
            "\n",
            "Eyes Opened (O)       0.82      0.83      0.83       240\n",
            "Eyes Closed (C)       0.83      0.82      0.82       240\n",
            "\n",
            "       accuracy                           0.82       480\n",
            "      macro avg       0.83      0.82      0.82       480\n",
            "   weighted avg       0.83      0.82      0.82       480\n",
            "\n"
          ]
        },
        {
          "output_type": "display_data",
          "data": {
            "text/plain": [
              "<Figure size 600x500 with 2 Axes>"
            ],
            "image/png": "[encoded data removed]"
          },
          "metadata": {}
        }
      ]
    }
  ]
}