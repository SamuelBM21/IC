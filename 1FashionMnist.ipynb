{
  "cells": [
    {
      "cell_type": "markdown",
      "metadata": {
        "id": "view-in-github",
        "colab_type": "text"
      },
      "source": [
        "<a href=\"https://colab.research.google.com/github/SamuelBM21/IC/blob/main/1FashionMnist.ipynb\" target=\"_parent\"><img src=\"https://colab.research.google.com/assets/colab-badge.svg\" alt=\"Open In Colab\"/></a>"
      ]
    },
    {
      "cell_type": "code",
      "execution_count": null,
      "id": "0e394268-fc1b-4976-a6d1-3237e96ee0ed",
      "metadata": {
        "id": "0e394268-fc1b-4976-a6d1-3237e96ee0ed"
      },
      "outputs": [],
      "source": [
        "import pandas as pd\n",
        "import numpy as np\n",
        "import matplotlib.pyplot as plt"
      ]
    },
    {
      "cell_type": "code",
      "source": [
        "from google.colab import drive\n",
        "drive.mount('/content/drive')"
      ],
      "metadata": {
        "colab": {
          "base_uri": "https://localhost:8080/"
        },
        "id": "IQ08fuCV-6nt",
        "outputId": "32672d07-9b29-4f21-fa19-6f2701ade357"
      },
      "id": "IQ08fuCV-6nt",
      "execution_count": null,
      "outputs": [
        {
          "output_type": "stream",
          "name": "stdout",
          "text": [
            "Mounted at /content/drive\n"
          ]
        }
      ]
    },
    {
      "cell_type": "code",
      "execution_count": null,
      "id": "ab565a7c-a676-485f-b5e0-9c27e9abe198",
      "metadata": {
        "scrolled": true,
        "id": "ab565a7c-a676-485f-b5e0-9c27e9abe198"
      },
      "outputs": [],
      "source": [
        "df = pd.read_csv('/content/drive/MyDrive/DataSets/fashion-mnist_train.csv')"
      ]
    },
    {
      "cell_type": "code",
      "execution_count": null,
      "id": "4a199165-bf55-46aa-9365-c0708a5b51e2",
      "metadata": {
        "id": "4a199165-bf55-46aa-9365-c0708a5b51e2"
      },
      "outputs": [],
      "source": [
        "data = np.array(df)\n",
        "m,n = data.shape\n",
        "np.random.shuffle(data)\n",
        "\n",
        "data_train=data.T\n",
        "Y_train=data_train[0]         #labels\n",
        "X_train=data_train[1:n]       #Values\n",
        "X_train = X_train / 255.\n",
        "_,m_train = X_train.shape"
      ]
    },
    {
      "cell_type": "code",
      "execution_count": null,
      "id": "229f9d1e-9c54-4cfb-8b67-d74b4539ea8a",
      "metadata": {
        "id": "229f9d1e-9c54-4cfb-8b67-d74b4539ea8a"
      },
      "outputs": [],
      "source": [
        "def ReLU(Z):\n",
        "    return np.maximum(0,Z);\n",
        "\n",
        "def softmax(Z):\n",
        "    A = np.exp(Z) / sum(np.exp(Z))\n",
        "    return A"
      ]
    },
    {
      "cell_type": "code",
      "execution_count": null,
      "id": "39681cb4-da86-479d-8a44-dd333293a19e",
      "metadata": {
        "id": "39681cb4-da86-479d-8a44-dd333293a19e"
      },
      "outputs": [],
      "source": [
        "def init_params():\n",
        "    w = [np.random.rand(10, 784) * np.sqrt(2/784),np.random.rand(10, 10) * np.sqrt(2/10)]\n",
        "    b = [np.zeros((10, 1)),np.zeros((10, 1))]\n",
        "    return w, b\n",
        "\n",
        "def initialize_adam(w, b):\n",
        "    L = len(w)\n",
        "    mw = [np.zeros_like(wl) for wl in w]\n",
        "    vw = [np.zeros_like(wl) for wl in w]\n",
        "    mb = [np.zeros_like(bl) for bl in b]\n",
        "    vb = [np.zeros_like(bl) for bl in b]\n",
        "    return mw, vw, mb, vb"
      ]
    },
    {
      "cell_type": "code",
      "execution_count": null,
      "id": "d82a6959-76d0-4bc7-9914-82753a30078a",
      "metadata": {
        "id": "d82a6959-76d0-4bc7-9914-82753a30078a"
      },
      "outputs": [],
      "source": [
        "def forward_prop(w, b, X):\n",
        "    a = [X]\n",
        "    z = []\n",
        "\n",
        "    for i in range(len(w)):\n",
        "        zi = w[i].dot(a[i]) + b[i]\n",
        "        z.append(zi)\n",
        "\n",
        "        if i == len(w) - 1:\n",
        "            ai = softmax(zi)\n",
        "        else:\n",
        "            ai = ReLU(zi)\n",
        "\n",
        "        a.append(ai)\n",
        "\n",
        "    return z, a"
      ]
    },
    {
      "cell_type": "code",
      "execution_count": null,
      "id": "58df3bec-7222-4a95-a928-d5437ec1bead",
      "metadata": {
        "id": "58df3bec-7222-4a95-a928-d5437ec1bead"
      },
      "outputs": [],
      "source": [
        "def back_prop(a, z, w , Y, X):\n",
        "    m = Y.shape[0]\n",
        "    L = len(w)\n",
        "\n",
        "    one_hot_Y = np.zeros((Y.size,10))\n",
        "    one_hot_Y[np.arange(Y.size), Y] = 1\n",
        "    one_hot_Y = one_hot_Y.T\n",
        "\n",
        "    dW = [0] * L\n",
        "    db = [0] * L\n",
        "    dZ = [0] * L\n",
        "\n",
        "    dZ[L-1] = a[L] - one_hot_Y\n",
        "    dW[L-1] = (1/m) * dZ[L-1].dot(a[L-1].T)\n",
        "    db[L-1] = (1/m) * np.sum(dZ[L-1], axis=1, keepdims=True)\n",
        "\n",
        "    for l in reversed(range(L-1)):\n",
        "        dZ[l] = w[l+1].T.dot(dZ[l+1]) * (z[l] > 0)\n",
        "        dW[l] = (1/m) * dZ[l].dot(a[l].T)\n",
        "        db[l] = (1/m) * np.sum(dZ[l], axis=1, keepdims=True)\n",
        "\n",
        "    return dW, db\n",
        "\n",
        "def compute_loss(a2, Y):\n",
        "    one_hot_Y = np.zeros((Y.size,10))\n",
        "    one_hot_Y[np.arange(Y.size), Y] = 1\n",
        "    one_hot_Y = one_hot_Y.T\n",
        "    loss = -np.sum(one_hot_Y * np.log(a2 + 1e-8)) / Y.size\n",
        "    return loss\n",
        "\n",
        "def update_params(w, b, dw, db, alpha):\n",
        "    for i in range(len(w)):\n",
        "        w[i] -= alpha * dw[i]\n",
        "        b[i] -= alpha * db[i]\n",
        "    return w, b\n",
        "\n",
        "def update_params_adam(w, b, dw, db, mw, vw, mb, vb, t, alpha, beta1=0.9, beta2=0.999, epsilon=1e-8):\n",
        "    for i in range(len(w)):\n",
        "        # Atualiza momento\n",
        "        mw[i] = beta1 * mw[i] + (1 - beta1) * dw[i]\n",
        "        vw[i] = beta2 * vw[i] + (1 - beta2) * (dw[i]**2)\n",
        "\n",
        "        mb[i] = beta1 * mb[i] + (1 - beta1) * db[i]\n",
        "        vb[i] = beta2 * vb[i] + (1 - beta2) * (db[i]**2)\n",
        "\n",
        "        # Correção de viés\n",
        "        mw_corr = mw[i] / (1 - beta1**t)\n",
        "        vw_corr = vw[i] / (1 - beta2**t)\n",
        "\n",
        "        mb_corr = mb[i] / (1 - beta1**t)\n",
        "        vb_corr = vb[i] / (1 - beta2**t)\n",
        "\n",
        "        # Atualiza os pesos\n",
        "        w[i] -= alpha * mw_corr / (np.sqrt(vw_corr) + epsilon)\n",
        "        b[i] -= alpha * mb_corr / (np.sqrt(vb_corr) + epsilon)\n",
        "\n",
        "    return w, b, mw, vw, mb, vb"
      ]
    },
    {
      "cell_type": "code",
      "execution_count": null,
      "id": "43167b92-5a2e-429e-a419-d4cd21df3170",
      "metadata": {
        "id": "43167b92-5a2e-429e-a419-d4cd21df3170"
      },
      "outputs": [],
      "source": [
        "def gradient_descent(X, Y, iterations, alpha):\n",
        "    w, b = init_params()\n",
        "    m = X.shape[1]\n",
        "    for i in range(iterations):\n",
        "        z, a = forward_prop(w, b, X)\n",
        "        dw, db = back_prop(a, z, w, Y, X)\n",
        "        w, b = update_params(w, b, dw, db, alpha)\n",
        "        if i % 10 == 0:\n",
        "                loss = compute_loss(a[-1], Y)\n",
        "                acc = get_accuracy(get_predictions(a[-1]), Y)\n",
        "                print(f\"Iteration {i} => Loss: {loss:.4f}, Accuracy: {acc:.4f}\")\n",
        "    return w, b\n"
      ]
    },
    {
      "cell_type": "code",
      "source": [
        "def gradient_descent_batches(X, Y, iterations, alpha, batch_size):\n",
        "    w, b = init_params()\n",
        "    mw, vw, mb, vb = initialize_adam(w, b)\n",
        "    m = X.shape[1]  # número total de exemplos\n",
        "    t = 1\n",
        "\n",
        "    for i in range(iterations):\n",
        "        # Embaralhar os dados\n",
        "        permutation = np.random.permutation(m)\n",
        "        X_shuffled = X[:, permutation]\n",
        "        Y_shuffled = Y[permutation]\n",
        "\n",
        "        # Processar em mini-batches\n",
        "        for j in range(0, m, batch_size):\n",
        "            end = j + batch_size\n",
        "            X_batch = X_shuffled[:, j:end]\n",
        "            Y_batch = Y_shuffled[j:end]\n",
        "\n",
        "            # Forward + Backward + Update para o mini-batch\n",
        "            z, a = forward_prop(w, b, X_batch)\n",
        "            dw, db = back_prop(a, z, w, Y_batch, X_batch)\n",
        "            w, b, mw, vw, mb, vb = update_params_adam(w, b, dw, db, mw, vw, mb, vb, t, alpha)\n",
        "            t += 1\n",
        "\n",
        "        # Monitoramento após cada época\n",
        "        if i % 10 == 0:\n",
        "            _, a_all = forward_prop(w, b, X)\n",
        "            loss = compute_loss(a_all[-1], Y)\n",
        "            acc = get_accuracy(get_predictions(a_all[-1]), Y)\n",
        "            print(f\"Iteration {i} => Loss: {loss:.4f}, Accuracy: {acc:.4f}\")\n",
        "\n",
        "    return w, b"
      ],
      "metadata": {
        "id": "bunUbMc7gbzh"
      },
      "id": "bunUbMc7gbzh",
      "execution_count": null,
      "outputs": []
    },
    {
      "cell_type": "code",
      "execution_count": null,
      "id": "c225be68-fe4b-4f60-bbf7-1aba6052a209",
      "metadata": {
        "id": "c225be68-fe4b-4f60-bbf7-1aba6052a209"
      },
      "outputs": [],
      "source": [
        "# Testing and evaluation\n",
        "def test_prediction(index, w, b):\n",
        "    labels = [\n",
        "      \"T-shirt/top\",\n",
        "      \"Trouser\",\n",
        "      \"Pullover\",\n",
        "      \"Dress\",\n",
        "      \"Coat\",\n",
        "      \"Sandal\",\n",
        "      \"Shirt\",\n",
        "      \"Sneaker\",\n",
        "      \"Bag\",\n",
        "      \"Ankle boot\"\n",
        "    ]\n",
        "    current_image = X_train[:, index, None]\n",
        "    prediction = make_predictions(X_train[:, index, None], w, b)\n",
        "    label = Y_train[index]\n",
        "    print(\"Prediction: \", labels[prediction[0]])\n",
        "    print(\"Label: \", labels[label])\n",
        "    current_image = current_image.reshape((28, 28)) * 255\n",
        "    plt.gray()\n",
        "    plt.imshow(current_image, interpolation='nearest')\n",
        "    plt.show()\n",
        "\n",
        "# Calculate accuracy\n",
        "def get_accuracy(predictions, Y):\n",
        "    return np.sum(predictions == Y) / Y.size           #Total de vezes que o valor foi igual ao label / pelo total de valores\n",
        "\n",
        "def get_predictions(a2):\n",
        "    return np.argmax(a2,0)"
      ]
    },
    {
      "cell_type": "code",
      "execution_count": null,
      "id": "97548507-b59d-4f85-8f9b-71c9d09aa144",
      "metadata": {
        "id": "97548507-b59d-4f85-8f9b-71c9d09aa144"
      },
      "outputs": [],
      "source": [
        "def make_predictions(X, w, b):\n",
        "    _, A = forward_prop(w, b, X)\n",
        "    predictions = np.argmax(A[-1], 0)\n",
        "    return predictions"
      ]
    },
    {
      "cell_type": "code",
      "source": [
        "w, b =gradient_descent_batches(X_train, Y_train, 100, 0.001,64)"
      ],
      "metadata": {
        "colab": {
          "base_uri": "https://localhost:8080/"
        },
        "id": "BAcYMSinmMJp",
        "outputId": "79b52114-c2a0-47cc-81fc-2c2af452c5cb"
      },
      "id": "BAcYMSinmMJp",
      "execution_count": null,
      "outputs": [
        {
          "output_type": "stream",
          "name": "stdout",
          "text": [
            "Iteration 0 => Loss: 0.5637, Accuracy: 0.8095\n",
            "Iteration 10 => Loss: 0.3860, Accuracy: 0.8655\n",
            "Iteration 20 => Loss: 0.3664, Accuracy: 0.8718\n",
            "Iteration 30 => Loss: 0.3603, Accuracy: 0.8722\n",
            "Iteration 40 => Loss: 0.3399, Accuracy: 0.8811\n",
            "Iteration 50 => Loss: 0.3399, Accuracy: 0.8800\n",
            "Iteration 60 => Loss: 0.3357, Accuracy: 0.8825\n",
            "Iteration 70 => Loss: 0.3382, Accuracy: 0.8806\n",
            "Iteration 80 => Loss: 0.3235, Accuracy: 0.8857\n",
            "Iteration 90 => Loss: 0.3305, Accuracy: 0.8819\n"
          ]
        }
      ]
    },
    {
      "cell_type": "code",
      "execution_count": null,
      "id": "3e5806a9-b9ec-4777-a010-a3b87fe17f8a",
      "metadata": {
        "colab": {
          "base_uri": "https://localhost:8080/",
          "height": 1000
        },
        "id": "3e5806a9-b9ec-4777-a010-a3b87fe17f8a",
        "outputId": "25892212-cb61-47a7-bebb-e29762b1f24c"
      },
      "outputs": [
        {
          "output_type": "stream",
          "name": "stdout",
          "text": [
            "Prediction:  Trouser\n",
            "Label:  Trouser\n"
          ]
        },
        {
          "output_type": "display_data",
          "data": {
            "text/plain": [
              "<Figure size 640x480 with 1 Axes>"
            ],
            "image/png": "[encoded data removed]"
          },
          "metadata": {}
        },
        {
          "output_type": "stream",
          "name": "stdout",
          "text": [
            "Prediction:  Sneaker\n",
            "Label:  Sneaker\n"
          ]
        },
        {
          "output_type": "display_data",
          "data": {
            "text/plain": [
              "<Figure size 640x480 with 1 Axes>"
            ],
            "image/png": "[encoded data removed]"
          },
          "metadata": {}
        },
        {
          "output_type": "stream",
          "name": "stdout",
          "text": [
            "Prediction:  Sneaker\n",
            "Label:  Sneaker\n"
          ]
        },
        {
          "output_type": "display_data",
          "data": {
            "text/plain": [
              "<Figure size 640x480 with 1 Axes>"
            ],
            "image/png": "[encoded data removed]"
          },
          "metadata": {}
        },
        {
          "output_type": "stream",
          "name": "stdout",
          "text": [
            "Prediction:  Ankle boot\n",
            "Label:  Ankle boot\n"
          ]
        },
        {
          "output_type": "display_data",
          "data": {
            "text/plain": [
              "<Figure size 640x480 with 1 Axes>"
            ],
            "image/png": "[encoded data removed]"
          },
          "metadata": {}
        }
      ],
      "source": [
        "test_prediction(62, w, b)\n",
        "test_prediction(741, w, b)\n",
        "test_prediction(201, w, b)\n",
        "test_prediction(822, w, b)"
      ]
    }
  ],
  "metadata": {
    "kernelspec": {
      "display_name": "Python 3",
      "name": "python3"
    },
    "language_info": {
      "codemirror_mode": {
        "name": "ipython",
        "version": 3
      },
      "file_extension": ".py",
      "mimetype": "text/x-python",
      "name": "python",
      "nbconvert_exporter": "python",
      "pygments_lexer": "ipython3",
      "version": "3.10.12"
    },
    "colab": {
      "provenance": [],
      "gpuType": "T4",
      "include_colab_link": true
    },
    "accelerator": "GPU"
  },
  "nbformat": 4,
  "nbformat_minor": 5
}